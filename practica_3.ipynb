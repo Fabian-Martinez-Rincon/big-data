{
 "cells": [
  {
   "cell_type": "markdown",
   "id": "e6a62056-b7db-4770-8b6b-ba2666be807f",
   "metadata": {},
   "source": [
    "<div align='center'>\n",
    "\n",
    "# Practica 3\n",
    "\n",
    "<img src='https://media2.giphy.com/media/v1.Y2lkPTc5MGI3NjExdjltdWlscHI5aGY2Ymk4Y2drYWJ0Z21mbzNvbzhoZnFwc3psenl2byZlcD12MV9pbnRlcm5hbF9naWZfYnlfaWQmY3Q9Zw/QMHoU66sBXqqLqYvGO/giphy.gif'>\n",
    "\n",
    "</div>"
   ]
  },
  {
   "cell_type": "markdown",
   "id": "468194c0-5432-4ac2-a75c-336a91dae75b",
   "metadata": {},
   "source": [
    "## Ejercicio 1\n",
    "El dataset Jacobi tiene los coeficientes de un sistema de 15 ecuaciones de 15\n",
    "incógnitas. Las ecuaciones en el archivo ya están \"despejadas\" como lo requiere el\n",
    "método de Jacobi. Cada línea del archivo posee:\n",
    "<var_N, term_ind, coef_var1, coef_var2, … , coef_ var15>\n",
    "Por simplicidad, para cada variable N su correspondiente coeficiente es cero.\n",
    "Implemente en MapReduce el cálculo del método de Jacobi para la solución del\n",
    "sistema de ecuaciones dado.\n"
   ]
  },
  {
   "cell_type": "markdown",
   "id": "fea369cf-e943-4448-9599-f817be868b36",
   "metadata": {},
   "source": [
    "---\n",
    "\n",
    "### Ejercicio 2\n",
    "\n",
    "Resuelva el problema del método de Jacobi con el dataset **jacobi2**.  \n",
    "Este dataset tiene los datos almacenados de la siguiente forma:\n",
    "- <incognita_i, coef_i, valor>\n",
    "\n",
    "\n",
    "Donde para cada incógnita, los términos de la ecuación correspondiente aparecen en distintas tuplas, inclusive el término independiente.  \n",
    "El valor de `coef_i` es, o bien el nombre de la incógnita afectada por el coeficiente `valor`, o bien el string **\"TI\"**, haciendo referencia a que valor es el término independiente de dicha ecuación.  \n",
    "\n",
    "Ejemplo:\n",
    "\n",
    "| incognita_i | coef_i | valor |\n",
    "|-------------|--------|-------|\n",
    "| X           | TI     | 1     |\n",
    "| X           | Y      | 3     |\n",
    "| X           | Z      | 0.5   |\n",
    "| Y           | TI     | -4    |\n",
    "| Y           | X      | 1/10  |\n",
    "| Y           | Z      | 1/10  |\n",
    "| Z           | TI     | 1     |\n",
    "| Z           | X      | 1/2   |\n",
    "| Z           | Y      | 1/2   |\n",
    "\n",
    "**Nota:** Continúe enviando los valores de las incógnitas por parámetros a los *mappers* y *reducers*, según corresponda.\n",
    "\n"
   ]
  },
  {
   "cell_type": "code",
   "execution_count": null,
   "id": "740d245c-baac-408b-bfa8-7d2cca49382b",
   "metadata": {},
   "outputs": [],
   "source": []
  }
 ],
 "metadata": {
  "kernelspec": {
   "display_name": "Python 3 (ipykernel)",
   "language": "python",
   "name": "python3"
  },
  "language_info": {
   "codemirror_mode": {
    "name": "ipython",
    "version": 3
   },
   "file_extension": ".py",
   "mimetype": "text/x-python",
   "name": "python",
   "nbconvert_exporter": "python",
   "pygments_lexer": "ipython3",
   "version": "3.8.10"
  }
 },
 "nbformat": 4,
 "nbformat_minor": 5
}
