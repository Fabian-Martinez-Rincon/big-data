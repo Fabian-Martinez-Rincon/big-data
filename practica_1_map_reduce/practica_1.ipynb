{
 "cells": [
  {
   "cell_type": "code",
   "execution_count": 1,
   "id": "740b9fb4-31b4-4f16-8a94-8c7f6cb2806d",
   "metadata": {},
   "outputs": [],
   "source": [
    "from MRE import Job\n",
    "root_path = './'"
   ]
  },
  {
   "cell_type": "code",
   "execution_count": 2,
   "id": "56787346-6b1f-4251-a535-95e3082c4ebe",
   "metadata": {},
   "outputs": [
    {
     "name": "stdout",
     "output_type": "stream",
     "text": [
      "True\n"
     ]
    }
   ],
   "source": [
    "inputDir = root_path + \"input/\"\n",
    "outputDir = root_path + \"output/\"\n",
    "\n",
    "def fmap(key, value, context):\n",
    "    context.write(value, 1)\n",
    "\n",
    "def fred(key, values, context):\n",
    "    n = 0\n",
    "    for v in values:\n",
    "        n = n + 1\n",
    "    context.write(key, n)\n",
    "\n",
    "job = Job(inputDir, outputDir, fmap, fred)\n",
    "success = job.waitForCompletion()\n",
    "print(success)\n"
   ]
  },
  {
   "cell_type": "markdown",
   "id": "8280fb36-5fd6-46bf-889a-abc7bbbc8d50",
   "metadata": {},
   "source": [
    "### Ejercicio 1\n",
    "2) El  dataset  Libros  provisto  por  la  cátedra  almacena  libros  cada  uno  en  un  archivo \n",
    "separado.  Dentro  de  cada  archivo,  la  primera  línea  tiene  el  título  del  libro  y  luego  en \n",
    "las  líneas  siguientes  un  párrafo  por  línea.  Ejecute  el  proyecto WordCount  dado por  la \n",
    "cátedra para saber cuántas veces es utilizada cada palabra"
   ]
  },
  {
   "cell_type": "code",
   "execution_count": 3,
   "id": "a56c70e8-5310-4d83-a31b-0db3598b2d4f",
   "metadata": {},
   "outputs": [],
   "source": [
    "inputDir = root_path + \"WordCount/input/\"\n",
    "outputDir = root_path + \"WordCount/output/\"\n",
    "\n",
    "def fmap(key, value, context):\n",
    "    words = value.split()\n",
    "    for w in words:\n",
    "        context.write(w, 1)\n",
    "        \n",
    "def fred(key, values, context):\n",
    "    c=0\n",
    "    for v in values:\n",
    "        c=c+1\n",
    "    context.write(key, c)\n",
    "\n",
    "job = Job(inputDir, outputDir, fmap, fred)\n",
    "success = job.waitForCompletion()"
   ]
  },
  {
   "cell_type": "code",
   "execution_count": null,
   "id": "d66b4761-77a3-4d94-b238-ab406a961ff5",
   "metadata": {},
   "outputs": [],
   "source": [
    "4) Modifique el proyecto WordCount para contar cuántas vocales, consonantes, dígitos,\n",
    "espacios y otros caracteres posee el data set Libros."
   ]
  },
  {
   "cell_type": "code",
   "execution_count": 4,
   "id": "eb2e0420-e1af-4d42-8cf6-687284893f44",
   "metadata": {},
   "outputs": [
    {
     "name": "stdout",
     "output_type": "stream",
     "text": [
      "True\n"
     ]
    }
   ],
   "source": [
    "inputDir = root_path + \"WordCount/input/\"\n",
    "outputDir = root_path + \"WordCount/output/\"\n",
    "\n",
    "def fmap(key, value, context):\n",
    "    for char in value.lower():\n",
    "        if char in \"aeiou\":\n",
    "            context.write(\"vocales\", 1)\n",
    "        elif char.isalpha():\n",
    "            context.write(\"consonantes\", 1)\n",
    "        elif char.isdigit():\n",
    "            context.write(\"digitos\", 1)\n",
    "        elif char.isspace():\n",
    "            context.write(\"espacios\", 1)\n",
    "        else:\n",
    "            context.write(\"otros\", 1)\n",
    "\n",
    "def fred(key, values, context):\n",
    "    total = 0\n",
    "    for v in values:\n",
    "        total += v\n",
    "    context.write(key, total)\n",
    "\n",
    "job = Job(inputDir, outputDir, fmap, fred)\n",
    "success = job.waitForCompletion()\n",
    "print(success)\n"
   ]
  },
  {
   "cell_type": "code",
   "execution_count": null,
   "id": "fc777481-5290-43ae-a9b5-f36b03c8e45d",
   "metadata": {},
   "outputs": [],
   "source": [
    "Resultado\n",
    "consonantes\t38742\n",
    "digitos\t152\n",
    "espacios\t14286\n",
    "otros\t3015\n",
    "vocales\t29528"
   ]
  },
  {
   "cell_type": "markdown",
   "id": "bf9aaf06-da33-417b-b573-bda5fdd41330",
   "metadata": {},
   "source": [
    "6) Una empresa proveedora de internet realizó una encuesta para conocer el grado de\n",
    "satisfacción de sus clientes, en un formulario web los clientes debían completar un\n",
    "campo con los textos \"Muy satisfecho\", \"Algo satisfecho\", \"Poco satisfecho\",\n",
    "“Disconforme” o \"Muy disconforme\". Utilice el dataset Encuesta para saber cuántos\n",
    "clientes están en cada una de las cinco categorías.\n"
   ]
  },
  {
   "cell_type": "code",
   "execution_count": 5,
   "id": "43b85eb8-7ebd-4433-89de-a0408be90f51",
   "metadata": {},
   "outputs": [
    {
     "name": "stdout",
     "output_type": "stream",
     "text": [
      "True\n"
     ]
    }
   ],
   "source": [
    "inputDir = root_path + \"Encuesta/input/\"\n",
    "outputDir = root_path + \"Encuesta/output/\"\n",
    "\n",
    "def fmap(key, value, context):\n",
    "    # Suponemos que cada línea es una respuesta\n",
    "    respuesta = value.strip()\n",
    "    context.write(respuesta, 1)\n",
    "\n",
    "def fred(key, values, context):\n",
    "    total = 0\n",
    "    for v in values:\n",
    "        total += v\n",
    "    context.write(key, total)\n",
    "\n",
    "job = Job(inputDir, outputDir, fmap, fred)\n",
    "success = job.waitForCompletion()\n",
    "print(success)\n"
   ]
  },
  {
   "cell_type": "markdown",
   "id": "c455603a-7ae7-4726-9898-41ab315c200c",
   "metadata": {},
   "source": [
    "🔹 a) Nombre del inversionista más joven"
   ]
  },
  {
   "cell_type": "code",
   "execution_count": 11,
   "id": "ed5e1c32-959f-45b2-850a-b6e5848e1dab",
   "metadata": {},
   "outputs": [
    {
     "name": "stdout",
     "output_type": "stream",
     "text": [
      "True\n"
     ]
    }
   ],
   "source": [
    "from MRE import Job\n",
    "root_path = './'\n",
    "inputDir = root_path + \"inversionistas/input/\"\n",
    "outputDir = root_path + \"inversionistas/output/\"\n",
    "\n",
    "def fmap(key, value, context):\n",
    "    campos = value.strip().split()\n",
    "    if len(campos) != 5:\n",
    "        print(f\"[SKIP] Línea mal formateada: {value}\")\n",
    "        return\n",
    "    nombre, dia, mes, anio, importe = campos\n",
    "    fecha = int(anio.zfill(4) + mes.zfill(2) + dia.zfill(2))\n",
    "    context.write(1, (nombre, fecha))\n",
    "\n",
    "\n",
    "\n",
    "def fred(key, values, context):\n",
    "    max_fecha = -1\n",
    "    nombre_joven = \"\"\n",
    "    for nombre, fecha in values:\n",
    "        if fecha > max_fecha:\n",
    "            max_fecha = fecha\n",
    "            nombre_joven = nombre\n",
    "    context.write(\"Inversionista más joven\", nombre_joven)\n",
    "\n",
    "job = Job(inputDir, outputDir, fmap, fred)\n",
    "success = job.waitForCompletion()\n",
    "print(success)\n"
   ]
  },
  {
   "cell_type": "markdown",
   "id": "ae59735d-72bb-48d6-a6af-a0f686199ff3",
   "metadata": {},
   "source": [
    "b. El total del importe invertido por todos los inversionistas"
   ]
  },
  {
   "cell_type": "code",
   "execution_count": 12,
   "id": "aaf03b0d-b2e2-464b-a8dc-f53ecb174f9f",
   "metadata": {},
   "outputs": [
    {
     "name": "stdout",
     "output_type": "stream",
     "text": [
      "True\n"
     ]
    }
   ],
   "source": [
    "from MRE import Job\n",
    "root_path = './'\n",
    "inputDir = root_path + \"inversionistas/input/\"\n",
    "outputDir = root_path + \"inversionistas/output_anios/\"\n",
    "\n",
    "def fmap(key, value, context):\n",
    "    campos = value.strip().split()\n",
    "    if len(campos) != 5:\n",
    "        print(f\"[SKIP] Línea mal formateada: {value}\")\n",
    "        return\n",
    "    nombre, dia, mes, anio, importe = campos\n",
    "    context.write(1, float(importe))\n",
    "\n",
    "def fred(key, values, context):\n",
    "    total = sum(values)\n",
    "    context.write(\"Total invertido\", total)\n",
    "\n",
    "job = Job(inputDir, outputDir, fmap, fred)\n",
    "success = job.waitForCompletion()\n",
    "print(success)\n"
   ]
  },
  {
   "cell_type": "markdown",
   "id": "6ef761dc-3a4c-4de8-a7b0-fbb06e398c5c",
   "metadata": {},
   "source": [
    "c. El promedio de edad"
   ]
  },
  {
   "cell_type": "code",
   "execution_count": 13,
   "id": "fc8c866e-8ad5-468e-b351-09fb433cebd8",
   "metadata": {},
   "outputs": [
    {
     "name": "stdout",
     "output_type": "stream",
     "text": [
      "True\n"
     ]
    }
   ],
   "source": [
    "from MRE import Job\n",
    "root_path = './'\n",
    "inputDir = root_path + \"inversionistas/input/\"\n",
    "outputDir = root_path + \"inversionistas/output_promedio_edad/\"\n",
    "\n",
    "def fmap(key, value, context):\n",
    "    campos = value.strip().split()\n",
    "    if len(campos) != 5:\n",
    "        print(f\"[SKIP] Línea mal formateada: {value}\")\n",
    "        return\n",
    "    nombre, dia, mes, anio, importe = campos\n",
    "    edad = 2025 - int(anio)\n",
    "    context.write(1, (edad, 1))\n",
    "\n",
    "def fred(key, values, context):\n",
    "    suma_edades = 0\n",
    "    cantidad = 0\n",
    "    for edad, uno in values:\n",
    "        suma_edades += edad\n",
    "        cantidad += uno\n",
    "    promedio = suma_edades / cantidad if cantidad > 0 else 0\n",
    "    context.write(\"Promedio de edad\", promedio)\n",
    "\n",
    "job = Job(inputDir, outputDir, fmap, fred)\n",
    "success = job.waitForCompletion()\n",
    "print(success)\n"
   ]
  },
  {
   "cell_type": "code",
   "execution_count": null,
   "id": "dae7acf6-c837-4042-9ad0-4c1bf22c34b1",
   "metadata": {},
   "outputs": [],
   "source": []
  }
 ],
 "metadata": {
  "kernelspec": {
   "display_name": "Python 3 (ipykernel)",
   "language": "python",
   "name": "python3"
  },
  "language_info": {
   "codemirror_mode": {
    "name": "ipython",
    "version": 3
   },
   "file_extension": ".py",
   "mimetype": "text/x-python",
   "name": "python",
   "nbconvert_exporter": "python",
   "pygments_lexer": "ipython3",
   "version": "3.8.10"
  }
 },
 "nbformat": 4,
 "nbformat_minor": 5
}
